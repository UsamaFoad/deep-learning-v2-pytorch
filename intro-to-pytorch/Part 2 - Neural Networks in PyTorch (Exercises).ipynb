{
 "cells": [
  {
   "cell_type": "markdown",
   "metadata": {},
   "source": [
    "# Neural networks with PyTorch\n",
    "\n",
    "Deep learning networks tend to be massive with dozens or hundreds of layers, that's where the term \"deep\" comes from. You can build one of these deep networks using only weight matrices as we did in the previous notebook, but in general it's very cumbersome and difficult to implement. PyTorch has a nice module `nn` that provides a nice way to efficiently build large neural networks."
   ]
  },
  {
   "cell_type": "code",
   "execution_count": 4,
   "metadata": {},
   "outputs": [],
   "source": [
    "# Import necessary packages\n",
    "\n",
    "%matplotlib inline\n",
    "%config InlineBackend.figure_format = 'retina'\n",
    "\n",
    "import numpy as np\n",
    "import torch\n",
    "\n",
    "import helper\n",
    "\n",
    "import matplotlib.pyplot as plt"
   ]
  },
  {
   "cell_type": "markdown",
   "metadata": {},
   "source": [
    "\n",
    "Now we're going to build a larger network that can solve a (formerly) difficult problem, identifying text in an image. Here we'll use the MNIST dataset which consists of greyscale handwritten digits. Each image is 28x28 pixels, you can see a sample below\n",
    "\n",
    "<img src='assets/mnist.png'>\n",
    "\n",
    "Our goal is to build a neural network that can take one of these images and predict the digit in the image.\n",
    "\n",
    "First up, we need to get our dataset. This is provided through the `torchvision` package. The code below will download the MNIST dataset, then create training and test datasets for us. Don't worry too much about the details here, you'll learn more about this later."
   ]
  },
  {
   "cell_type": "code",
   "execution_count": 5,
   "metadata": {},
   "outputs": [],
   "source": [
    "### Run this cell\n",
    "\n",
    "from torchvision import datasets, transforms\n",
    "\n",
    "# Define a transform to normalize the data\n",
    "transform = transforms.Compose([transforms.ToTensor(),\n",
    "                              transforms.Normalize((0.5,), (0.5,)),\n",
    "                              ])\n",
    "\n",
    "# Download and load the training data\n",
    "trainset = datasets.MNIST('~/.pytorch/MNIST_data/', download=True, train=True, transform=transform)\n",
    "trainloader = torch.utils.data.DataLoader(trainset, batch_size=64, shuffle=True)"
   ]
  },
  {
   "cell_type": "markdown",
   "metadata": {},
   "source": [
    "We have the training data loaded into `trainloader` and we make that an iterator with `iter(trainloader)`. Later, we'll use this to loop through the dataset for training, like\n",
    "\n",
    "```python\n",
    "for image, label in trainloader:\n",
    "    ## do things with images and labels\n",
    "```\n",
    "\n",
    "You'll notice I created the `trainloader` with a batch size of 64, and `shuffle=True`. The batch size is the number of images we get in one iteration from the data loader and pass through our network, often called a *batch*. And `shuffle=True` tells it to shuffle the dataset every time we start going through the data loader again. But here I'm just grabbing the first batch so we can check out the data. We can see below that `images` is just a tensor with size `(64, 1, 28, 28)`. So, 64 images per batch, 1 color channel, and 28x28 images."
   ]
  },
  {
   "cell_type": "code",
   "execution_count": 6,
   "metadata": {},
   "outputs": [
    {
     "name": "stdout",
     "output_type": "stream",
     "text": [
      "<class 'torch.Tensor'>\n",
      "torch.Size([64, 1, 28, 28])\n",
      "torch.Size([64])\n"
     ]
    }
   ],
   "source": [
    "dataiter = iter(trainloader)\n",
    "images, labels = dataiter.next()\n",
    "print(type(images))\n",
    "print(images.shape)\n",
    "print(labels.shape)"
   ]
  },
  {
   "cell_type": "markdown",
   "metadata": {},
   "source": [
    "This is what one of the images looks like. "
   ]
  },
  {
   "cell_type": "code",
   "execution_count": 7,
   "metadata": {},
   "outputs": [
    {
     "data": {
      "image/png": "[encoded data removed]",
      "text/plain": [
       "<Figure size 432x288 with 1 Axes>"
      ]
     },
     "metadata": {
      "image/png": {
       "height": 250,
       "width": 253
      },
      "needs_background": "light"
     },
     "output_type": "display_data"
    }
   ],
   "source": [
    "plt.imshow(images[1].numpy().squeeze(), cmap='Greys_r');"
   ]
  },
  {
   "cell_type": "markdown",
   "metadata": {},
   "source": [
    "First, let's try to build a simple network for this dataset using weight matrices and matrix multiplications. Then, we'll see how to do it using PyTorch's `nn` module which provides a much more convenient and powerful method for defining network architectures.\n",
    "\n",
    "The networks you've seen so far are called *fully-connected* or *dense* networks. Each unit in one layer is connected to each unit in the next layer. In fully-connected networks, the input to each layer must be a one-dimensional vector (which can be stacked into a 2D tensor as a batch of multiple examples). However, our images are 28x28 2D tensors, so we need to convert them into 1D vectors. Thinking about sizes, we need to convert the batch of images with shape `(64, 1, 28, 28)` to a have a shape of `(64, 784)`, 784 is 28 times 28. This is typically called *flattening*, we flattened the 2D images into 1D vectors.\n",
    "\n",
    "Previously you built a network with one output unit. Here we need 10 output units, one for each digit. We want our network to predict the digit shown in an image, so what we'll do is calculate probabilities that the image is of any one digit or class. This ends up being a discrete probability distribution over the classes (digits) that tells us the most likely class for the image. That means we need 10 output units for the 10 classes (digits). We'll see how to convert the network output into a probability distribution next.\n",
    "\n",
    "> **Exercise:** Flatten the batch of images `images`. Then build a multi-layer network with 784 input units, 256 hidden units, and 10 output units using random tensors for the weights and biases. For now, use a sigmoid activation for the hidden layer. Leave the output layer without an activation, we'll add one that gives us a probability distribution next."
   ]
  },
  {
   "cell_type": "code",
   "execution_count": 8,
   "metadata": {},
   "outputs": [
    {
     "name": "stdout",
     "output_type": "stream",
     "text": [
      "torch.Size([64, 10])\n",
      "tensor([[-14.1306, -18.7724, -21.9505,   3.9371,   0.5850,   2.2832,   7.3227,\n",
      "           9.0968,  13.2250, -13.1665],\n",
      "        [ -8.7957, -13.5533,  -7.7110,   8.3300,  -2.7751,  19.9653,   5.3473,\n",
      "           7.2488,  15.7047, -14.1297],\n",
      "        [ -7.4536, -18.4593,  -8.4741,  12.3138,  -0.8419,  15.0223,   4.8443,\n",
      "          13.4041,  24.4072,  -7.4909],\n",
      "        [ -6.0030, -23.3900,  -1.5228,  -0.5860,   0.2074,  14.9218,   4.1127,\n",
      "           6.3828,  12.0401, -11.1960],\n",
      "        [ -7.1737, -13.6206,  -0.6363,   4.4002,   1.1647,  16.2100,  -3.1819,\n",
      "          21.4183,  16.1328, -11.3279],\n",
      "        [  1.7876, -14.1625,  -9.1731,   9.5809,   4.3572,   8.5832,   0.5749,\n",
      "          10.5959,  30.4551,  -9.2368],\n",
      "        [ -1.4799, -12.2023, -10.1145,   8.5066,  -4.9914,  13.5858,   0.7144,\n",
      "           6.4607,  17.0395,  -5.1544],\n",
      "        [-10.5216, -13.4333,  -9.9036,   3.4104,  -1.0245,  17.2017,   1.9090,\n",
      "           0.9080,  17.8394, -10.5222],\n",
      "        [ -8.3063, -24.7027, -16.2130,   4.4599,  -1.9133,   4.2671,   9.1705,\n",
      "           0.3848,  18.0315, -12.3994],\n",
      "        [ -1.7284, -16.6445, -19.2560,  16.0588,   5.5681,  18.0858,  -1.3589,\n",
      "           9.6141,  21.4232, -14.7246],\n",
      "        [ -1.3658, -15.4251, -11.1602,   7.9075,  -4.2662,  15.8901,   5.4303,\n",
      "          18.9240,  10.5778, -22.3267],\n",
      "        [ -0.4610, -13.8346, -14.0834,   7.0008,   0.9274,  14.1927,   4.6214,\n",
      "           2.5307,  11.6383, -12.0193],\n",
      "        [ -8.2502, -17.8296,  -7.3339,   8.2254,  -4.9600,  26.5173,  -0.4475,\n",
      "          11.9119,  21.5828,  -4.4293],\n",
      "        [ -8.2956,  -8.8323, -11.1786,  13.0825,   5.8858,  15.1193,   9.1248,\n",
      "          11.8756,  25.0176, -16.6677],\n",
      "        [-15.3469, -15.9046,  -5.4460,   2.1060,   2.1910,  20.3699,   2.1558,\n",
      "           5.4941,  16.9414, -10.1019],\n",
      "        [ -3.0664,  -6.4165, -12.0680,   7.8963,  -2.5687,  18.0849,   5.1481,\n",
      "           3.8292,   5.0860, -11.8000],\n",
      "        [ -8.4369, -14.8160, -11.2571,   4.0943, -12.6941,  17.8799,   4.2509,\n",
      "           8.2626,  19.4440,  -9.8832],\n",
      "        [ -5.2196, -20.8188, -17.3973,  12.5673,  -0.2066,  17.2399,   2.6800,\n",
      "           9.0468,  23.0204, -14.7217],\n",
      "        [ -8.5165, -15.2984, -14.5337,   5.7150,   2.7604,  14.4623,   5.8566,\n",
      "          21.8850,  11.3662, -12.5880],\n",
      "        [ -5.0529, -10.2302, -17.6005,  14.0321,  -6.9508,  15.8243,   1.3143,\n",
      "           9.2735,  12.0514, -15.0729],\n",
      "        [-10.5949, -13.5903, -11.1121,   7.3690,   7.8338,   9.3005,   4.8412,\n",
      "          14.0677,  17.0179,  -9.2932],\n",
      "        [ -8.0037, -13.3207,  -4.3210,   3.7377,   0.0787,  11.7497,  -0.1397,\n",
      "          16.9590,  21.6787,  -1.8522],\n",
      "        [-10.5701, -18.1404,  -9.8903,   4.7461,  -4.5355,  16.5229,   1.4461,\n",
      "          12.5904,   9.3890, -11.7214],\n",
      "        [ -5.1738, -19.0974,  -6.8117,   8.2936,  -4.0880,  18.5938,  -0.0013,\n",
      "          10.5811,   5.4574, -15.9970],\n",
      "        [-10.4014, -18.5443, -13.4409,   4.3692,  -6.4273,  13.8785,   0.9703,\n",
      "          10.8606,  14.8101, -12.1652],\n",
      "        [-10.6795, -16.9343,  -7.2550,   7.5510,   2.4881,  16.7109,   0.0112,\n",
      "           1.1864,  18.0406, -14.1508],\n",
      "        [-12.5643,  -9.0071, -15.2940,   7.6465,  -5.4120,   2.1687,   5.9857,\n",
      "          17.6012,  20.9029, -11.9498],\n",
      "        [ -2.7425, -18.1343,  -8.2538,  -0.1956,   0.7006,  17.9045,   3.7291,\n",
      "          15.3429,  14.4772, -13.3862],\n",
      "        [ -9.5220, -14.2776,  -3.1461,   1.9871,  -0.9614,  17.2448,   0.1271,\n",
      "           9.9193,  23.1271,  -9.4378],\n",
      "        [ -7.8870, -15.3355, -14.9067,   3.6065,  -3.6357,  11.2884,  10.0693,\n",
      "          14.6490,  10.6179,  -8.2425],\n",
      "        [ -4.9877, -15.5280, -11.0895,   1.1635,  -4.2293,  13.8183,   1.2970,\n",
      "           3.2290,  11.9515, -13.5749],\n",
      "        [-12.6088,  -6.2636,  -5.9579,   4.4546,   3.3331,  13.6530,   0.8481,\n",
      "           4.4980,   5.1505, -13.7787],\n",
      "        [ -1.8136,  -9.9712, -13.0290,   4.9502,  -4.6123,   9.5746,   9.5132,\n",
      "           7.0132,  16.7391, -18.3312],\n",
      "        [ -6.2184, -12.1446,  -4.2980,  -0.8824,  -1.6652,  19.6650,  -6.5163,\n",
      "          19.0218,  18.1836,  -8.6519],\n",
      "        [ -5.3742, -21.7255, -21.5106,  12.8436,   0.4980,   4.0190,   8.1973,\n",
      "           8.1546,  17.7877, -17.6966],\n",
      "        [ -6.6432,  -7.8933,  -6.6239,  11.2897,   0.0883,  15.2614,   7.1226,\n",
      "          11.1369,   9.3002, -17.9591],\n",
      "        [-15.4440, -11.8934,  -7.2872,  13.2913,  -2.6971,  21.0482,   6.6434,\n",
      "          17.0532,  11.3225, -13.6969],\n",
      "        [ -8.7692,  -8.8148, -15.2670,   3.8284,  -1.1540,  10.5649,   8.1723,\n",
      "           6.5993,  18.0781, -11.3034],\n",
      "        [ -6.1302, -15.5875,  -1.8806,   6.5051,  -5.5075,  16.1879,   5.2272,\n",
      "           3.5000,  23.3440,  -8.7950],\n",
      "        [ -2.9583, -12.3218,  -4.7900,   4.9106,  -5.9763,  11.0815,   1.4180,\n",
      "           7.4927,  30.0065,  -2.3820],\n",
      "        [ -3.1701, -18.1595, -15.1346,  10.4865,  -5.1316,   9.8394,   4.9072,\n",
      "           8.2807,  12.9654, -15.6451],\n",
      "        [ -6.9455, -24.2580,  -6.9661,   4.2799,  -9.9982,  14.0984,  10.5884,\n",
      "           3.1089,  10.8557, -16.9985],\n",
      "        [ -8.6318, -20.7487, -13.8567,   9.1968, -10.3185,  16.7283,   4.1967,\n",
      "          10.1785,   6.9463, -18.2867],\n",
      "        [-10.8071, -14.1288,  -7.2585,   5.5999,  -6.4406,  23.7810,   2.1495,\n",
      "          13.2946,  16.5998,  -5.5335],\n",
      "        [-12.0945, -10.5211,  -3.2165,   7.8649,  -5.6579,  18.2206,   5.8585,\n",
      "          11.8411,  12.2152, -12.8908],\n",
      "        [-12.0913, -20.5119, -12.9908,   9.0651,  -5.9598,  12.0534,   4.4783,\n",
      "          16.5566,  21.1521, -12.4849],\n",
      "        [ -9.6193, -15.8362,  -7.4784,  -1.9273,   2.3005,  19.0050,   3.7648,\n",
      "          12.0448,  18.9085,  -9.0860],\n",
      "        [ -9.8789, -13.7180, -12.2907,   9.8459,  -1.8155,  18.6041,   6.6632,\n",
      "          15.2580,  13.3644,  -9.2975],\n",
      "        [ -4.3850,  -6.6067, -13.9383,  18.9279,  -1.2966,   3.3325,   6.4793,\n",
      "          13.0090,   9.9668, -13.3039],\n",
      "        [ -6.6644, -12.9958,  -7.3291,   8.4176,   0.4963,  11.5210,   3.4068,\n",
      "           9.1986,  11.6578, -13.6976],\n",
      "        [-12.8392, -11.9474,  -1.3148,   3.4278,   3.7313,  17.8128,   9.9115,\n",
      "          18.5683,   4.3269,  -9.8635],\n",
      "        [ -3.6415, -14.2905,  -4.3552,   1.6548,   2.1631,  25.2533,   5.5417,\n",
      "          15.6509,  14.2129,  -8.6934],\n",
      "        [-10.4205, -15.0432, -15.9433,   6.8339,   4.5356,   9.3701,   5.3268,\n",
      "           7.8705,  11.1093, -16.6170],\n",
      "        [ -8.8871, -12.8826,  -3.3374,   2.8858,  -9.2454,  19.2140,  -8.9067,\n",
      "          13.4293,  19.7149,  -6.7675],\n",
      "        [ -3.8310, -10.6612,  -4.5858,   5.0092, -10.5542,   9.2215,   8.9030,\n",
      "           7.8230,  16.6271, -19.3474],\n",
      "        [ -4.3602,  -6.1227, -12.0680,   5.2855,   1.4443,   4.8905,   8.6442,\n",
      "          24.2410,  12.8381,  -9.2990],\n",
      "        [-11.6848, -12.1627, -17.8817,   4.8256, -10.2858,  12.5644,   8.0000,\n",
      "           9.1519,   8.6274,  -5.2916],\n",
      "        [ -3.0781, -16.2012,  -2.8588,   4.8900,   2.1413,  12.7422,  16.6317,\n",
      "          21.4692,  12.7641, -12.6964],\n",
      "        [ -4.4570, -11.0436, -20.2501,   6.8745,   5.2331,   2.7444,   1.6488,\n",
      "          10.9089,  22.2122, -14.9041],\n",
      "        [ -6.1193, -22.7037,  -4.3061,  -3.8179,   0.7958,  15.1906,   0.9310,\n",
      "           5.1620,  18.7624, -15.3943],\n",
      "        [-11.8056, -23.3346, -13.7482,   7.3433,  -0.4974,  14.4616,   1.4155,\n",
      "           8.1849,  14.5992, -17.3006],\n",
      "        [ -1.2744, -22.9534, -22.7721,   1.9121,  -1.8108,   6.1602,   2.4356,\n",
      "           1.0212,  20.6529, -12.4647],\n",
      "        [ -4.1926,  -7.8031,  -3.8774,  11.9334,   1.5174,  13.2189,  -0.9307,\n",
      "          21.5965,   0.8373,  -7.0098],\n",
      "        [ -3.3616,  -8.2032, -12.4109,   1.1309,  -3.9156,  13.9939,   2.8998,\n",
      "          -0.4231,  29.4922,  -6.0802]])\n"
     ]
    }
   ],
   "source": [
    "## Your solution\n",
    "def activation(x):\n",
    "    return 1/(1+torch.exp(-x))\n",
    "\n",
    "# Flatten the imput images\n",
    "inputs = images.view(images.shape[0], -1)\n",
    "\n",
    "# Create parameters\n",
    "w1 = torch.randn(784, 256)\n",
    "b1 = torch.randn(256)\n",
    "\n",
    "w2 = torch.randn(256, 10)\n",
    "b2 = torch.randn(10)\n",
    "\n",
    "h = activation(torch.mm(inputs, w1) + b1)\n",
    "\n",
    "out = torch.mm(h, w2) + b2 # output of your network, should have shape (64,10)\n",
    "print(out.shape)\n",
    "print(out)"
   ]
  },
  {
   "cell_type": "markdown",
   "metadata": {},
   "source": [
    "Now we have 10 outputs for our network. We want to pass in an image to our network and get out a probability distribution over the classes that tells us the likely class(es) the image belongs to. Something that looks like this:\n",
    "<img src='assets/image_distribution.png' width=500px>\n",
    "\n",
    "Here we see that the probability for each class is roughly the same. This is representing an untrained network, it hasn't seen any data yet so it just returns a uniform distribution with equal probabilities for each class.\n",
    "\n",
    "To calculate this probability distribution, we often use the [**softmax** function](https://en.wikipedia.org/wiki/Softmax_function). Mathematically this looks like\n",
    "\n",
    "$$\n",
    "\\Large \\sigma(x_i) = \\cfrac{e^{x_i}}{\\sum_k^K{e^{x_k}}}\n",
    "$$\n",
    "\n",
    "What this does is squish each input $x_i$ between 0 and 1 and normalizes the values to give you a proper probability distribution where the probabilites sum up to one.\n",
    "\n",
    "> **Exercise:** Implement a function `softmax` that performs the softmax calculation and returns probability distributions for each example in the batch. Note that you'll need to pay attention to the shapes when doing this. If you have a tensor `a` with shape `(64, 10)` and a tensor `b` with shape `(64,)`, doing `a/b` will give you an error because PyTorch will try to do the division across the columns (called broadcasting) but you'll get a size mismatch. The way to think about this is for each of the 64 examples, you only want to divide by one value, the sum in the denominator. So you need `b` to have a shape of `(64, 1)`. This way PyTorch will divide the 10 values in each row of `a` by the one value in each row of `b`. Pay attention to how you take the sum as well. You'll need to define the `dim` keyword in `torch.sum`. Setting `dim=0` takes the sum across the rows while `dim=1` takes the sum across the columns."
   ]
  },
  {
   "cell_type": "code",
   "execution_count": 9,
   "metadata": {},
   "outputs": [
    {
     "name": "stdout",
     "output_type": "stream",
     "text": [
      "torch.Size([64, 10])\n",
      "tensor([1.0000, 1.0000, 1.0000, 1.0000, 1.0000, 1.0000, 1.0000, 1.0000, 1.0000,\n",
      "        1.0000, 1.0000, 1.0000, 1.0000, 1.0000, 1.0000, 1.0000, 1.0000, 1.0000,\n",
      "        1.0000, 1.0000, 1.0000, 1.0000, 1.0000, 1.0000, 1.0000, 1.0000, 1.0000,\n",
      "        1.0000, 1.0000, 1.0000, 1.0000, 1.0000, 1.0000, 1.0000, 1.0000, 1.0000,\n",
      "        1.0000, 1.0000, 1.0000, 1.0000, 1.0000, 1.0000, 1.0000, 1.0000, 1.0000,\n",
      "        1.0000, 1.0000, 1.0000, 1.0000, 1.0000, 1.0000, 1.0000, 1.0000, 1.0000,\n",
      "        1.0000, 1.0000, 1.0000, 1.0000, 1.0000, 1.0000, 1.0000, 1.0000, 1.0000,\n",
      "        1.0000])\n"
     ]
    }
   ],
   "source": [
    "def softmax(x):\n",
    "    ## TODO: Implement the softmax function here\n",
    "    return torch.exp(x)/torch.sum(torch.exp(x), dim=1).view(-1, 1)\n",
    "\n",
    "# Here, out should be the output of the network in the previous excercise with shape (64,10)\n",
    "probabilities = softmax(out)\n",
    "\n",
    "# Does it have the right shape? Should be (64, 10)\n",
    "print(probabilities.shape)\n",
    "# Does it sum to 1?\n",
    "print(probabilities.sum(dim=1))"
   ]
  },
  {
   "cell_type": "markdown",
   "metadata": {},
   "source": [
    "## Building networks with PyTorch\n",
    "\n",
    "PyTorch provides a module `nn` that makes building networks much simpler. Here I'll show you how to build the same one as above with 784 inputs, 256 hidden units, 10 output units and a softmax output."
   ]
  },
  {
   "cell_type": "code",
   "execution_count": 10,
   "metadata": {},
   "outputs": [],
   "source": [
    "from torch import nn"
   ]
  },
  {
   "cell_type": "code",
   "execution_count": 11,
   "metadata": {},
   "outputs": [],
   "source": [
    "class Network(nn.Module):\n",
    "    def __init__(self):\n",
    "        super().__init__()\n",
    "        \n",
    "        # Inputs to hidden layer linear transformation\n",
    "        self.hidden = nn.Linear(784, 256)\n",
    "        # Output layer, 10 units - one for each digit\n",
    "        self.output = nn.Linear(256, 10)\n",
    "        \n",
    "        # Define sigmoid activation and softmax output \n",
    "        self.sigmoid = nn.Sigmoid()\n",
    "        self.softmax = nn.Softmax(dim=1)\n",
    "        \n",
    "    def forward(self, x):\n",
    "        # Pass the input tensor through each of our operations\n",
    "        x = self.hidden(x)\n",
    "        x = self.sigmoid(x)\n",
    "        x = self.output(x)\n",
    "        x = self.softmax(x)\n",
    "        \n",
    "        return x"
   ]
  },
  {
   "cell_type": "markdown",
   "metadata": {},
   "source": [
    "Let's go through this bit by bit.\n",
    "\n",
    "```python\n",
    "class Network(nn.Module):\n",
    "```\n",
    "\n",
    "Here we're inheriting from `nn.Module`. Combined with `super().__init__()` this creates a class that tracks the architecture and provides a lot of useful methods and attributes. It is mandatory to inherit from `nn.Module` when you're creating a class for your network. The name of the class itself can be anything.\n",
    "\n",
    "```python\n",
    "self.hidden = nn.Linear(784, 256)\n",
    "```\n",
    "\n",
    "This line creates a module for a linear transformation, $x\\mathbf{W} + b$, with 784 inputs and 256 outputs and assigns it to `self.hidden`. The module automatically creates the weight and bias tensors which we'll use in the `forward` method. You can access the weight and bias tensors once the network (`net`) is created with `net.hidden.weight` and `net.hidden.bias`.\n",
    "\n",
    "```python\n",
    "self.output = nn.Linear(256, 10)\n",
    "```\n",
    "\n",
    "Similarly, this creates another linear transformation with 256 inputs and 10 outputs.\n",
    "\n",
    "```python\n",
    "self.sigmoid = nn.Sigmoid()\n",
    "self.softmax = nn.Softmax(dim=1)\n",
    "```\n",
    "\n",
    "Here I defined operations for the sigmoid activation and softmax output. Setting `dim=1` in `nn.Softmax(dim=1)` calculates softmax across the columns.\n",
    "\n",
    "```python\n",
    "def forward(self, x):\n",
    "```\n",
    "\n",
    "PyTorch networks created with `nn.Module` must have a `forward` method defined. It takes in a tensor `x` and passes it through the operations you defined in the `__init__` method.\n",
    "\n",
    "```python\n",
    "x = self.hidden(x)\n",
    "x = self.sigmoid(x)\n",
    "x = self.output(x)\n",
    "x = self.softmax(x)\n",
    "```\n",
    "\n",
    "Here the input tensor `x` is passed through each operation a reassigned to `x`. We can see that the input tensor goes through the hidden layer, then a sigmoid function, then the output layer, and finally the softmax function. It doesn't matter what you name the variables here, as long as the inputs and outputs of the operations match the network architecture you want to build. The order in which you define things in the `__init__` method doesn't matter, but you'll need to sequence the operations correctly in the `forward` method.\n",
    "\n",
    "Now we can create a `Network` object."
   ]
  },
  {
   "cell_type": "code",
   "execution_count": 12,
   "metadata": {},
   "outputs": [
    {
     "data": {
      "text/plain": [
       "Network(\n",
       "  (hidden): Linear(in_features=784, out_features=256, bias=True)\n",
       "  (output): Linear(in_features=256, out_features=10, bias=True)\n",
       "  (sigmoid): Sigmoid()\n",
       "  (softmax): Softmax()\n",
       ")"
      ]
     },
     "execution_count": 12,
     "metadata": {},
     "output_type": "execute_result"
    }
   ],
   "source": [
    "# Create the network and look at it's text representation\n",
    "model = Network()\n",
    "model"
   ]
  },
  {
   "cell_type": "markdown",
   "metadata": {},
   "source": [
    "You can define the network somewhat more concisely and clearly using the `torch.nn.functional` module. This is the most common way you'll see networks defined as many operations are simple element-wise functions. We normally import this module as `F`, `import torch.nn.functional as F`."
   ]
  },
  {
   "cell_type": "code",
   "execution_count": 13,
   "metadata": {},
   "outputs": [],
   "source": [
    "import torch.nn.functional as F\n",
    "\n",
    "class Network(nn.Module):\n",
    "    def __init__(self):\n",
    "        super().__init__()\n",
    "        # Inputs to hidden layer linear transformation\n",
    "        self.hidden = nn.Linear(784, 256)\n",
    "        # Output layer, 10 units - one for each digit\n",
    "        self.output = nn.Linear(256, 10)\n",
    "        \n",
    "    def forward(self, x):\n",
    "        # Hidden layer with sigmoid activation\n",
    "        x = F.sigmoid(self.hidden(x))\n",
    "        # Output layer with softmax activation\n",
    "        x = F.softmax(self.output(x), dim=1)\n",
    "        \n",
    "        return x"
   ]
  },
  {
   "cell_type": "markdown",
   "metadata": {},
   "source": [
    "### Activation functions\n",
    "\n",
    "So far we've only been looking at the softmax activation, but in general any function can be used as an activation function. The only requirement is that for a network to approximate a non-linear function, the activation functions must be non-linear. Here are a few more examples of common activation functions: Tanh (hyperbolic tangent), and ReLU (rectified linear unit).\n",
    "\n",
    "<img src=\"assets/activation.png\" width=700px>\n",
    "\n",
    "In practice, the ReLU function is used almost exclusively as the activation function for hidden layers."
   ]
  },
  {
   "cell_type": "markdown",
   "metadata": {},
   "source": [
    "### Your Turn to Build a Network\n",
    "\n",
    "<img src=\"assets/mlp_mnist.png\" width=600px>\n",
    "\n",
    "> **Exercise:** Create a network with 784 input units, a hidden layer with 128 units and a ReLU activation, then a hidden layer with 64 units and a ReLU activation, and finally an output layer with a softmax activation as shown above. You can use a ReLU activation with the `nn.ReLU` module or `F.relu` function."
   ]
  },
  {
   "cell_type": "code",
   "execution_count": 17,
   "metadata": {
    "scrolled": true
   },
   "outputs": [
    {
     "name": "stdout",
     "output_type": "stream",
     "text": [
      "2018-11-16 14:13:31.224043\n",
      "2018-11-16 14:13:31.228025\n",
      "0\n",
      "3982\n"
     ]
    }
   ],
   "source": [
    "## Your solution here\n",
    "import datetime\n",
    "start_time = datetime.datetime.now()\n",
    "print(start_time)\n",
    "\n",
    "class Network(nn.Module):\n",
    "    def __init__(self):\n",
    "        super().__init__()\n",
    "        # Defining the layer, 128, 64, 10 units eath\n",
    "        self.fc1 = nn.Linear(784, 128)\n",
    "        self.fc2 = nn.Linear(128, 64)\n",
    "        # Output layer, 10 units - one for each digit\n",
    "        self.fc3 = nn.Linear(64, 10)\n",
    "        \n",
    "    def forward(self, x):\n",
    "        ''' Forward pass through the network, returns the output logits'''\n",
    "        \n",
    "        x = self.fc1(x)\n",
    "        x = F.relu(x)\n",
    "        x = self.fc2(x)\n",
    "        x = F.relu(x)\n",
    "        x = self.fc3(x)\n",
    "        x = F.softmax(x, dim=1)\n",
    "        \n",
    "        return x\n",
    "model = Network()\n",
    "model\n",
    "end_time = datetime.datetime.now()\n",
    "print(end_time)\n",
    "total_time = end_time - start_time\n",
    "print(total_time.seconds)\n",
    "print(total_time.microseconds)\n"
   ]
  },
  {
   "cell_type": "markdown",
   "metadata": {},
   "source": [
    "### Initializing weights and biases\n",
    "\n",
    "The weights and such are automatically initialized for you, but it's possible to customize how they are initialized. The weights and biases are tensors attached to the layer you defined, you can get them with `model.fc1.weight` for instance."
   ]
  },
  {
   "cell_type": "code",
   "execution_count": 18,
   "metadata": {},
   "outputs": [
    {
     "name": "stdout",
     "output_type": "stream",
     "text": [
      "Parameter containing:\n",
      "tensor([[ 0.0253,  0.0086,  0.0142,  ..., -0.0008,  0.0073, -0.0183],\n",
      "        [ 0.0195, -0.0177,  0.0161,  ...,  0.0131,  0.0074, -0.0023],\n",
      "        [-0.0194, -0.0022,  0.0026,  ...,  0.0095,  0.0218,  0.0183],\n",
      "        ...,\n",
      "        [-0.0054, -0.0311,  0.0284,  ..., -0.0206,  0.0132, -0.0226],\n",
      "        [-0.0048,  0.0272, -0.0029,  ...,  0.0003,  0.0204,  0.0159],\n",
      "        [-0.0151,  0.0308,  0.0043,  ...,  0.0076, -0.0140,  0.0152]],\n",
      "       requires_grad=True)\n",
      "Parameter containing:\n",
      "tensor([-0.0102, -0.0293, -0.0352, -0.0095, -0.0209, -0.0356,  0.0071,  0.0026,\n",
      "        -0.0119,  0.0006, -0.0190, -0.0087, -0.0086, -0.0135,  0.0196, -0.0163,\n",
      "         0.0012, -0.0118, -0.0217,  0.0031, -0.0142,  0.0309,  0.0228, -0.0046,\n",
      "        -0.0226, -0.0355,  0.0266,  0.0317,  0.0105,  0.0038,  0.0126, -0.0302,\n",
      "        -0.0054, -0.0331, -0.0304,  0.0236,  0.0185, -0.0093,  0.0029,  0.0179,\n",
      "        -0.0103, -0.0227, -0.0103,  0.0194, -0.0086,  0.0052,  0.0265, -0.0249,\n",
      "         0.0041,  0.0232, -0.0307,  0.0087,  0.0073,  0.0016,  0.0335, -0.0292,\n",
      "        -0.0236,  0.0173,  0.0145, -0.0135, -0.0138,  0.0335,  0.0200, -0.0101,\n",
      "         0.0349,  0.0237, -0.0007, -0.0082,  0.0089,  0.0260,  0.0254, -0.0017,\n",
      "        -0.0238, -0.0131, -0.0292,  0.0301,  0.0266,  0.0057,  0.0051, -0.0223,\n",
      "        -0.0073, -0.0169,  0.0219, -0.0040,  0.0284,  0.0114, -0.0151, -0.0273,\n",
      "        -0.0093,  0.0009,  0.0164, -0.0301, -0.0226,  0.0106,  0.0063,  0.0337,\n",
      "         0.0315,  0.0114,  0.0120,  0.0022,  0.0043, -0.0194,  0.0340, -0.0307,\n",
      "        -0.0217,  0.0115, -0.0185, -0.0300, -0.0127, -0.0321, -0.0140,  0.0335,\n",
      "         0.0153,  0.0214, -0.0351, -0.0017,  0.0137, -0.0253,  0.0006, -0.0072,\n",
      "         0.0341,  0.0335,  0.0195,  0.0188,  0.0026, -0.0266, -0.0215,  0.0045],\n",
      "       requires_grad=True)\n"
     ]
    }
   ],
   "source": [
    "print(model.fc1.weight)\n",
    "print(model.fc1.bias)"
   ]
  },
  {
   "cell_type": "markdown",
   "metadata": {},
   "source": [
    "For custom initialization, we want to modify these tensors in place. These are actually autograd *Variables*, so we need to get back the actual tensors with `model.fc1.weight.data`. Once we have the tensors, we can fill them with zeros (for biases) or random normal values."
   ]
  },
  {
   "cell_type": "code",
   "execution_count": 19,
   "metadata": {},
   "outputs": [
    {
     "data": {
      "text/plain": [
       "tensor([0., 0., 0., 0., 0., 0., 0., 0., 0., 0., 0., 0., 0., 0., 0., 0., 0., 0.,\n",
       "        0., 0., 0., 0., 0., 0., 0., 0., 0., 0., 0., 0., 0., 0., 0., 0., 0., 0.,\n",
       "        0., 0., 0., 0., 0., 0., 0., 0., 0., 0., 0., 0., 0., 0., 0., 0., 0., 0.,\n",
       "        0., 0., 0., 0., 0., 0., 0., 0., 0., 0., 0., 0., 0., 0., 0., 0., 0., 0.,\n",
       "        0., 0., 0., 0., 0., 0., 0., 0., 0., 0., 0., 0., 0., 0., 0., 0., 0., 0.,\n",
       "        0., 0., 0., 0., 0., 0., 0., 0., 0., 0., 0., 0., 0., 0., 0., 0., 0., 0.,\n",
       "        0., 0., 0., 0., 0., 0., 0., 0., 0., 0., 0., 0., 0., 0., 0., 0., 0., 0.,\n",
       "        0., 0.])"
      ]
     },
     "execution_count": 19,
     "metadata": {},
     "output_type": "execute_result"
    }
   ],
   "source": [
    "# Set biases to all zeros\n",
    "model.fc1.bias.data.fill_(0)"
   ]
  },
  {
   "cell_type": "code",
   "execution_count": 20,
   "metadata": {},
   "outputs": [
    {
     "data": {
      "text/plain": [
       "tensor([[ 0.0094,  0.0066,  0.0106,  ..., -0.0109, -0.0001,  0.0096],\n",
       "        [-0.0007,  0.0146,  0.0065,  ...,  0.0123,  0.0084,  0.0138],\n",
       "        [ 0.0081, -0.0056, -0.0085,  ..., -0.0064, -0.0056,  0.0107],\n",
       "        ...,\n",
       "        [ 0.0116, -0.0014,  0.0000,  ..., -0.0195,  0.0134, -0.0125],\n",
       "        [ 0.0073,  0.0199,  0.0036,  ..., -0.0004, -0.0125,  0.0013],\n",
       "        [-0.0112, -0.0053,  0.0024,  ..., -0.0049, -0.0176,  0.0145]])"
      ]
     },
     "execution_count": 20,
     "metadata": {},
     "output_type": "execute_result"
    }
   ],
   "source": [
    "# sample from random normal with standard dev = 0.01\n",
    "model.fc1.weight.data.normal_(std=0.01)"
   ]
  },
  {
   "cell_type": "markdown",
   "metadata": {},
   "source": [
    "### Forward pass\n",
    "\n",
    "Now that we have a network, let's see what happens when we pass in an image."
   ]
  },
  {
   "cell_type": "code",
   "execution_count": 21,
   "metadata": {},
   "outputs": [
    {
     "data": {
      "image/png": "[encoded data removed]",
      "text/plain": [
       "<Figure size 432x648 with 2 Axes>"
      ]
     },
     "metadata": {
      "image/png": {
       "height": 224,
       "width": 423
      },
      "needs_background": "light"
     },
     "output_type": "display_data"
    }
   ],
   "source": [
    "# Grab some data \n",
    "dataiter = iter(trainloader)\n",
    "images, labels = dataiter.next()\n",
    "\n",
    "# Resize images into a 1D vector, new shape is (batch size, color channels, image pixels) \n",
    "images.resize_(64, 1, 784)\n",
    "# or images.resize_(images.shape[0], 1, 784) to automatically get batch size\n",
    "\n",
    "# Forward pass through the network\n",
    "img_idx = 0\n",
    "ps = model.forward(images[img_idx,:])\n",
    "\n",
    "img = images[img_idx]\n",
    "helper.view_classify(img.view(1, 28, 28), ps)"
   ]
  },
  {
   "cell_type": "markdown",
   "metadata": {},
   "source": [
    "As you can see above, our network has basically no idea what this digit is. It's because we haven't trained it yet, all the weights are random!\n",
    "\n",
    "### Using `nn.Sequential`\n",
    "\n",
    "PyTorch provides a convenient way to build networks like this where a tensor is passed sequentially through operations, `nn.Sequential` ([documentation](https://pytorch.org/docs/master/nn.html#torch.nn.Sequential)). Using this to build the equivalent network:"
   ]
  },
  {
   "cell_type": "code",
   "execution_count": 22,
   "metadata": {},
   "outputs": [
    {
     "name": "stdout",
     "output_type": "stream",
     "text": [
      "Sequential(\n",
      "  (0): Linear(in_features=784, out_features=128, bias=True)\n",
      "  (1): ReLU()\n",
      "  (2): Linear(in_features=128, out_features=64, bias=True)\n",
      "  (3): ReLU()\n",
      "  (4): Linear(in_features=64, out_features=10, bias=True)\n",
      "  (5): Softmax()\n",
      ")\n"
     ]
    },
    {
     "data": {
      "image/png": "[encoded data removed]",
      "text/plain": [
       "<Figure size 432x648 with 2 Axes>"
      ]
     },
     "metadata": {
      "image/png": {
       "height": 224,
       "width": 423
      },
      "needs_background": "light"
     },
     "output_type": "display_data"
    }
   ],
   "source": [
    "# Hyperparameters for our network\n",
    "input_size = 784\n",
    "hidden_sizes = [128, 64]\n",
    "output_size = 10\n",
    "\n",
    "# Build a feed-forward network\n",
    "model = nn.Sequential(nn.Linear(input_size, hidden_sizes[0]),\n",
    "                      nn.ReLU(),\n",
    "                      nn.Linear(hidden_sizes[0], hidden_sizes[1]),\n",
    "                      nn.ReLU(),\n",
    "                      nn.Linear(hidden_sizes[1], output_size),\n",
    "                      nn.Softmax(dim=1))\n",
    "print(model)\n",
    "\n",
    "# Forward pass through the network and display output\n",
    "images, labels = next(iter(trainloader))\n",
    "images.resize_(images.shape[0], 1, 784)\n",
    "ps = model.forward(images[0,:])\n",
    "helper.view_classify(images[0].view(1, 28, 28), ps)"
   ]
  },
  {
   "cell_type": "markdown",
   "metadata": {},
   "source": [
    "Here our model is the same as before: 784 input units, a hidden layer with 128 units, ReLU activation, 64 unit hidden layer, another ReLU, then the output layer with 10 units, and the softmax output.\n",
    "\n",
    "The operations are availble by passing in the appropriate index. For example, if you want to get first Linear operation and look at the weights, you'd use `model[0]`."
   ]
  },
  {
   "cell_type": "code",
   "execution_count": 23,
   "metadata": {},
   "outputs": [
    {
     "name": "stdout",
     "output_type": "stream",
     "text": [
      "Linear(in_features=784, out_features=128, bias=True)\n"
     ]
    },
    {
     "data": {
      "text/plain": [
       "Parameter containing:\n",
       "tensor([[-0.0287, -0.0086, -0.0343,  ...,  0.0304, -0.0186,  0.0209],\n",
       "        [ 0.0049, -0.0354,  0.0055,  ...,  0.0267, -0.0254,  0.0283],\n",
       "        [-0.0040, -0.0184, -0.0199,  ..., -0.0230, -0.0253, -0.0104],\n",
       "        ...,\n",
       "        [-0.0033, -0.0350,  0.0170,  ..., -0.0098, -0.0267, -0.0121],\n",
       "        [ 0.0254, -0.0317, -0.0168,  ..., -0.0196, -0.0126,  0.0153],\n",
       "        [ 0.0192,  0.0030, -0.0067,  ...,  0.0002, -0.0077,  0.0197]],\n",
       "       requires_grad=True)"
      ]
     },
     "execution_count": 23,
     "metadata": {},
     "output_type": "execute_result"
    }
   ],
   "source": [
    "print(model[0])\n",
    "model[0].weight"
   ]
  },
  {
   "cell_type": "markdown",
   "metadata": {},
   "source": [
    "You can also pass in an `OrderedDict` to name the individual layers and operations, instead of using incremental integers. Note that dictionary keys must be unique, so _each operation must have a different name_."
   ]
  },
  {
   "cell_type": "code",
   "execution_count": 24,
   "metadata": {},
   "outputs": [
    {
     "data": {
      "text/plain": [
       "Sequential(\n",
       "  (fc1): Linear(in_features=784, out_features=128, bias=True)\n",
       "  (relu1): ReLU()\n",
       "  (fc2): Linear(in_features=128, out_features=64, bias=True)\n",
       "  (relu2): ReLU()\n",
       "  (output): Linear(in_features=64, out_features=10, bias=True)\n",
       "  (softmax): Softmax()\n",
       ")"
      ]
     },
     "execution_count": 24,
     "metadata": {},
     "output_type": "execute_result"
    }
   ],
   "source": [
    "from collections import OrderedDict\n",
    "model = nn.Sequential(OrderedDict([\n",
    "                      ('fc1', nn.Linear(input_size, hidden_sizes[0])),\n",
    "                      ('relu1', nn.ReLU()),\n",
    "                      ('fc2', nn.Linear(hidden_sizes[0], hidden_sizes[1])),\n",
    "                      ('relu2', nn.ReLU()),\n",
    "                      ('output', nn.Linear(hidden_sizes[1], output_size)),\n",
    "                      ('softmax', nn.Softmax(dim=1))]))\n",
    "model"
   ]
  },
  {
   "cell_type": "markdown",
   "metadata": {},
   "source": [
    "Now you can access layers either by integer or the name"
   ]
  },
  {
   "cell_type": "code",
   "execution_count": 25,
   "metadata": {},
   "outputs": [
    {
     "name": "stdout",
     "output_type": "stream",
     "text": [
      "Linear(in_features=784, out_features=128, bias=True)\n",
      "Linear(in_features=784, out_features=128, bias=True)\n"
     ]
    }
   ],
   "source": [
    "print(model[0])\n",
    "print(model.fc1)"
   ]
  },
  {
   "cell_type": "markdown",
   "metadata": {},
   "source": [
    "In the next notebook, we'll see how we can train a neural network to accuractly predict the numbers appearing in the MNIST images."
   ]
  }
 ],
 "metadata": {
  "kernelspec": {
   "display_name": "Python [default]",
   "language": "python",
   "name": "python3"
  },
  "language_info": {
   "codemirror_mode": {
    "name": "ipython",
    "version": 3
   },
   "file_extension": ".py",
   "mimetype": "text/x-python",
   "name": "python",
   "nbconvert_exporter": "python",
   "pygments_lexer": "ipython3",
   "version": "3.5.6"
  }
 },
 "nbformat": 4,
 "nbformat_minor": 2
}
